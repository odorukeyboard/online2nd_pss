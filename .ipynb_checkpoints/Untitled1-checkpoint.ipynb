{
 "cells": [
  {
   "cell_type": "markdown",
   "id": "cd07c3f0",
   "metadata": {},
   "source": [
    "기계학습에서는 한번도 보지 못한 데이터를 얼마나 잘 맞추느냐가 중요하다.\n",
    "\n",
    "컴퓨터비전의 핵심은 시각적인식\n",
    "\n",
    "Image Classfication(이미지 분류)문제는 컴퓨터에게 어려운 문제이다.\n",
    "컴퓨터에게 이미지는 아주 큰 격자 모양의 숫자집합일 뿐이다.\n",
    "이미지 인식이 어려운 이유는 담는 대상이 같더라도\n",
    "카메라 각도, 외부의 빛의 영향 등에 따라서 숫자 값이 크게 달라지기 때문이다.\n",
    "\n",
    "Background clustter - 대상이 배경과 구분이 잘 가지 않는 경우\n",
    "\n",
    "데이터 중심 접근 방법\n",
    "\n",
    "NN(Nearst Neighbor) classifier\n",
    "학습 단계에서 모든 학습 데이터를 기억해 모델을 만든후, 새로운 이미지가 들어왔을때\n",
    "기존의 학습데이터와 비교하여 가장 유사한 이미지로 예측하는 방법이다.\n",
    "\n",
    "하지만 NN알고리즘은 예측에 오랜 시간이 걸리는 모델이기 때문에\n",
    "실제로 사용하기에는 어렵다는 단점이 생긴다.\n",
    "우리는 빠른 결과를 바라기 때문이다.\n",
    "\n",
    "K-NN 모델\n",
    "\n",
    "Linear classifier(선형 분류)\n",
    "\n",
    "CNN(Convolutional Neural Network)\n",
    "\n",
    "Convolution Layer 와 Fully Connected Layer의 차이점은\n",
    "Convolution Layer 는 기존 구조를 보존시킨다는 것이다.\n",
    "\n",
    "pooling은 downsampling의 일종\n",
    "\n",
    "convolution -> maxpooling -> convolution -> maxpooling \n",
    "\n",
    "convolution layer(합성곱 계층)은 \n",
    "필터를 이용한 합성곱 연산을 진행합니다.\n",
    "\n",
    "pooling layer(풀링 계층)은\n",
    "데이터의 크기를 줄이는 downsampling 과정으로\n",
    "max, min, average...등 값에 맞게 크기를 줄여준다.\n",
    "\n",
    "padding, stride, depth\n",
    "\n",
    "flattend은 3차원 배열로 되어있는 이미지를 1차원의 벡터로 만드는 것을 뜻합니다.\n",
    "\n",
    "\n",
    "딥러닝\n",
    "\n",
    "멀티레이어 - 층이 깊으면 왜 좋은지 알아야 한다.\n",
    "층이 깊어지면 학습해야할 파라미터의 갯수가 줄어든다. 출력 레이어 한칸에 해당되는 입력 레이어 칸 수가 많아지게 되어 정확한 학습을 할수가 없다.\n",
    "층과 정확도는 비례한다."
   ]
  },
  {
   "cell_type": "markdown",
   "id": "0f1f70dd",
   "metadata": {},
   "source": [
    "이미지 인식은 이미지가 담고 있는 대상을 인식하는 것을 말하며\n",
    "이미지 인식은 컴퓨터에게 어려운 문제다.\n",
    "그 이유는 컴퓨터에게 이미지 데이터는 숫자의 배열에 불과하기 때문이다.\n",
    "이런 숫자의 배열을통해 이미지에 담겨진 대상을 인식해야 하는것이다.\n",
    "이러한 문제를 해결하기 위해서 데이터 중심의 해결방법이 제시 되었고\n",
    "데이터를 중심 접근 방법(Data-Driven Approcach)으로 \n",
    "각 카테고리마다 이미지를 찾아 학습하여 분류기 모델을 만드는 방법이다.\n",
    "\n",
    "인간의 뉴런을 본따 만든 퍼셉트론이 개발되었다.\n",
    "퍼셉트론은 다수의 입력값을 받아 하나의 값으로 출력하는 알고리즘이다.\n",
    "컴퓨터 분야에서 퍼셉트론은 이진분류 모델을 학습하기 위한 지도학습 기반의 알고리즘이다.\n",
    "\n"
   ]
  }
 ],
 "metadata": {
  "kernelspec": {
   "display_name": "Python 3",
   "language": "python",
   "name": "python3"
  },
  "language_info": {
   "codemirror_mode": {
    "name": "ipython",
    "version": 3
   },
   "file_extension": ".py",
   "mimetype": "text/x-python",
   "name": "python",
   "nbconvert_exporter": "python",
   "pygments_lexer": "ipython3",
   "version": "3.6.9"
  }
 },
 "nbformat": 4,
 "nbformat_minor": 5
}
