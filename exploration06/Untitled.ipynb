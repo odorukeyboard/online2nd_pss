{
 "cells": [
  {
   "cell_type": "code",
   "execution_count": 1,
   "id": "254e853e",
   "metadata": {
    "ExecuteTime": {
     "end_time": "2023-01-02T07:13:42.286396Z",
     "start_time": "2023-01-02T07:13:42.261410Z"
    }
   },
   "outputs": [
    {
     "name": "stdout",
     "output_type": "stream",
     "text": [
      "[0.72663129 0.22738967]\n",
      "[[0.40120246 0.64374413 0.53814198]\n",
      " [0.30644899 0.21060626 0.76732509]]\n",
      "[0.08302715 0.45728051 0.67688172]\n"
     ]
    }
   ],
   "source": [
    "import numpy as np\n",
    "\n",
    "X = np.random.rand(2)\n",
    "W = np.random.rand(2,3)\n",
    "B = np.random.rand(3)\n",
    "\n",
    "print(X)\n",
    "print(W)\n",
    "print(B)"
   ]
  },
  {
   "cell_type": "code",
   "execution_count": 3,
   "id": "ab7aabf3",
   "metadata": {
    "ExecuteTime": {
     "end_time": "2023-01-02T07:14:05.677927Z",
     "start_time": "2023-01-02T07:14:05.670956Z"
    }
   },
   "outputs": [
    {
     "data": {
      "text/plain": [
       "(3,)"
      ]
     },
     "execution_count": 3,
     "metadata": {},
     "output_type": "execute_result"
    }
   ],
   "source": [
    "X.shape\n",
    "W.shape\n",
    "B.shape"
   ]
  },
  {
   "cell_type": "code",
   "execution_count": 4,
   "id": "6af51066",
   "metadata": {
    "ExecuteTime": {
     "end_time": "2023-01-02T07:14:25.090737Z",
     "start_time": "2023-01-02T07:14:25.066750Z"
    }
   },
   "outputs": [],
   "source": [
    "Y = np.dot(X, W) + B"
   ]
  },
  {
   "cell_type": "markdown",
   "id": "48f818f8",
   "metadata": {},
   "source": [
    "전치행렬\n",
    "\n"
   ]
  }
 ],
 "metadata": {
  "kernelspec": {
   "display_name": "Python 3 (ipykernel)",
   "language": "python",
   "name": "python3"
  },
  "language_info": {
   "codemirror_mode": {
    "name": "ipython",
    "version": 3
   },
   "file_extension": ".py",
   "mimetype": "text/x-python",
   "name": "python",
   "nbconvert_exporter": "python",
   "pygments_lexer": "ipython3",
   "version": "3.9.13"
  },
  "toc": {
   "base_numbering": 1,
   "nav_menu": {},
   "number_sections": true,
   "sideBar": true,
   "skip_h1_title": false,
   "title_cell": "Table of Contents",
   "title_sidebar": "Contents",
   "toc_cell": false,
   "toc_position": {},
   "toc_section_display": true,
   "toc_window_display": false
  }
 },
 "nbformat": 4,
 "nbformat_minor": 5
}
