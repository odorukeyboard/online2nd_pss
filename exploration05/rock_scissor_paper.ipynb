{
 "cells": [
  {
   "cell_type": "code",
   "execution_count": 44,
   "id": "29918296",
   "metadata": {
    "ExecuteTime": {
     "end_time": "2023-01-02T02:54:01.835109Z",
     "start_time": "2023-01-02T02:54:01.828111Z"
    }
   },
   "outputs": [],
   "source": [
    "import tensorflow as tf\n",
    "from tensorflow import keras\n",
    "import numpy as np\n",
    "from PIL import Image\n",
    "import glob\n",
    "import os\n",
    "import cv2"
   ]
  },
  {
   "cell_type": "code",
   "execution_count": 45,
   "id": "37a3a895",
   "metadata": {
    "ExecuteTime": {
     "end_time": "2023-01-02T02:54:03.079964Z",
     "start_time": "2023-01-02T02:54:03.062973Z"
    }
   },
   "outputs": [
    {
     "data": {
      "text/plain": [
       "'C:\\\\Users\\\\user00\\\\aiffel\\\\online2nd_pss\\\\exploration05\\\\data\\\\test'"
      ]
     },
     "execution_count": 45,
     "metadata": {},
     "output_type": "execute_result"
    }
   ],
   "source": [
    "local_dir = os.getcwd()\n",
    "dataset_path = os.path.join(local_dir, 'data')\n",
    "train_path = os.path.join(dataset_path,'train')\n",
    "test_path = os.path.join(dataset_path,'test')\n",
    "test_path"
   ]
  },
  {
   "cell_type": "code",
   "execution_count": 47,
   "id": "4f9d1571",
   "metadata": {
    "ExecuteTime": {
     "end_time": "2023-01-02T02:54:30.449360Z",
     "start_time": "2023-01-02T02:54:30.431369Z"
    }
   },
   "outputs": [],
   "source": [
    "def rotate_image(img):\n",
    "    coloredImg = cv2.imread(img)\n",
    "    img90 = cv2.rotate(coloredImg, cv2.ROTATE_90_CLOCKWISE) \n",
    "    img180 = cv2.rotate(coloredImg, cv2.ROTATE_180) \n",
    "    img270 = cv2.rotate(coloredImg, cv2.ROTATE_90_COUNTERCLOCKWISE)\n",
    "    return img90, img180, img270\n",
    "    \n",
    "def resize_images(img_path):\n",
    "    images=glob.glob(img_path + \"\\\\*.jpg\")  \n",
    "    # 파일마다 모두 28x28 사이즈로 바꾸어 저장합니다.\n",
    "    target_size=(32,32)\n",
    "    for img in images:\n",
    "        old_img=Image.open(img)\n",
    "        new_img=old_img.resize(target_size,Image.ANTIALIAS)\n",
    "        new_img.save(img, \"JPEG\")\n",
    "        rotate_imgs = rotate_image(img)\n",
    "        for index, rt_img in enumerate(rotate_imgs):\n",
    "            new_rt_img = img.replace('.','_' + str(index) + '.')\n",
    "            cv2.imwrite(new_rt_img,rt_img)\n",
    "            \n",
    "    print(len(images), \" images resized.\")\n",
    "    \n",
    "def test_resize_imges(img_path):\n",
    "    images=glob.glob(img_path + \"\\\\*.jpg\")  \n",
    "    target_size=(32,32)\n",
    "    for img in images:\n",
    "        old_img=Image.open(img)\n",
    "        new_img=old_img.resize(target_size,Image.ANTIALIAS)\n",
    "        new_img.save(img, \"JPEG\")\n",
    "        rotate_imgs = rotate_image(img)\n",
    "    print(len(images), \" images resized.\")\n",
    "\n",
    "    \n",
    "    \n",
    "def load_data(img_path, number_of_data=1200):  # 가위바위보 이미지 개수 총합에 주의하세요.\n",
    "    # 가위 : 0, 바위 : 1, 보 : 2\n",
    "    img_size=32\n",
    "    color=3\n",
    "    #이미지 데이터와 라벨(가위 : 0, 바위 : 1, 보 : 2) 데이터를 담을 행렬(matrix) 영역을 생성합니다.\n",
    "    imgs=np.zeros(number_of_data*img_size*img_size*color,dtype=np.int32).reshape(number_of_data,img_size,img_size,color)\n",
    "    labels=np.zeros(number_of_data,dtype=np.int32)\n",
    "    \n",
    "    idx=0\n",
    "    for file in glob.iglob(img_path+'\\\\scissor\\\\*.jpg'):\n",
    "        img = np.array(Image.open(file),dtype=np.int32)\n",
    "        imgs[idx,:,:,:]=img    # 데이터 영역에 이미지 행렬을 복사\n",
    "        labels[idx]=0   # 가위 : 0\n",
    "        idx=idx+1\n",
    "\n",
    "    for file in glob.iglob(img_path+'\\\\rock\\\\*.jpg'):\n",
    "        img = np.array(Image.open(file),dtype=np.int32)\n",
    "        imgs[idx,:,:,:]=img    # 데이터 영역에 이미지 행렬을 복사\n",
    "        labels[idx]=1   # 바위 : 1\n",
    "        idx=idx+1  \n",
    "    \n",
    "    for file in glob.iglob(img_path+'\\\\paper\\\\*.jpg'):\n",
    "        img = np.array(Image.open(file),dtype=np.int32)\n",
    "        imgs[idx,:,:,:]=img    # 데이터 영역에 이미지 행렬을 복사\n",
    "        labels[idx]=2   # 보 : 2\n",
    "        idx=idx+1\n",
    "        \n",
    "    print(\"이미지 개수는\", idx,\"입니다.\")\n",
    "    return imgs, labels"
   ]
  },
  {
   "cell_type": "markdown",
   "id": "c5fac691",
   "metadata": {},
   "source": [
    "# train data 만들기"
   ]
  },
  {
   "cell_type": "code",
   "execution_count": 49,
   "id": "5c19feb5",
   "metadata": {
    "ExecuteTime": {
     "end_time": "2023-01-02T02:55:43.349756Z",
     "start_time": "2023-01-02T02:55:38.007703Z"
    }
   },
   "outputs": [
    {
     "name": "stderr",
     "output_type": "stream",
     "text": [
      "C:\\Users\\user00\\AppData\\Local\\Temp\\ipykernel_122332\\1849025978.py:14: DeprecationWarning: ANTIALIAS is deprecated and will be removed in Pillow 10 (2023-07-01). Use Resampling.LANCZOS instead.\n",
      "  new_img=old_img.resize(target_size,Image.ANTIALIAS)\n"
     ]
    },
    {
     "name": "stdout",
     "output_type": "stream",
     "text": [
      "100  images resized.\n",
      "100  images resized.\n",
      "100  images resized.\n"
     ]
    }
   ],
   "source": [
    "train_path = os.path.join(dataset_path,'train')\n",
    "\n",
    "rsp_arr = ['rock','scissor','paper']\n",
    "\n",
    "for i in rsp_arr:\n",
    "    temp_dir = os.path.join(train_path + '\\\\' + i)\n",
    "    resize_images(temp_dir)"
   ]
  },
  {
   "cell_type": "code",
   "execution_count": 50,
   "id": "b2367ae6",
   "metadata": {
    "ExecuteTime": {
     "end_time": "2023-01-02T02:55:54.448004Z",
     "start_time": "2023-01-02T02:55:49.876612Z"
    }
   },
   "outputs": [
    {
     "name": "stdout",
     "output_type": "stream",
     "text": [
      "이미지 개수는 1200 입니다.\n"
     ]
    }
   ],
   "source": [
    "(x_train, y_train)=load_data(train_path)\n",
    "x_train_norm = x_train/255.0   # 입력은 0~1 사이의 값으로 정규화"
   ]
  },
  {
   "cell_type": "markdown",
   "id": "19149d8a",
   "metadata": {},
   "source": [
    "# test data 만들기"
   ]
  },
  {
   "cell_type": "code",
   "execution_count": 51,
   "id": "6c61151a",
   "metadata": {
    "ExecuteTime": {
     "end_time": "2023-01-02T02:56:09.076093Z",
     "start_time": "2023-01-02T02:56:04.852505Z"
    },
    "scrolled": true
   },
   "outputs": [
    {
     "name": "stderr",
     "output_type": "stream",
     "text": [
      "C:\\Users\\user00\\AppData\\Local\\Temp\\ipykernel_122332\\1849025978.py:28: DeprecationWarning: ANTIALIAS is deprecated and will be removed in Pillow 10 (2023-07-01). Use Resampling.LANCZOS instead.\n",
      "  new_img=old_img.resize(target_size,Image.ANTIALIAS)\n"
     ]
    },
    {
     "name": "stdout",
     "output_type": "stream",
     "text": [
      "100  images resized.\n",
      "100  images resized.\n",
      "100  images resized.\n",
      "이미지 개수는 300 입니다.\n"
     ]
    }
   ],
   "source": [
    "for i in rsp_arr:\n",
    "    temp_dir = os.path.join(test_path + '\\\\' + i)\n",
    "    test_resize_imges(temp_dir)\n",
    "\n",
    "(x_test, y_test)=load_data(test_path, number_of_data=300)\n",
    "x_test_norm = x_test/255.0   # 입력은 0~1 사이의 값으로 정규화"
   ]
  },
  {
   "cell_type": "code",
   "execution_count": 66,
   "id": "29283a14",
   "metadata": {
    "ExecuteTime": {
     "end_time": "2023-01-02T03:37:10.310048Z",
     "start_time": "2023-01-02T03:37:10.293059Z"
    }
   },
   "outputs": [
    {
     "name": "stdout",
     "output_type": "stream",
     "text": [
      "[[[[122 146 148]\n",
      "   [124 148 150]\n",
      "   [126 150 152]\n",
      "   ...\n",
      "   [ 98 130 125]\n",
      "   [101 131 129]\n",
      "   [111 139 140]]\n",
      "\n",
      "  [[123 147 149]\n",
      "   [124 148 150]\n",
      "   [126 150 152]\n",
      "   ...\n",
      "   [ 98 129 124]\n",
      "   [108 137 135]\n",
      "   [115 143 144]]\n",
      "\n",
      "  [[123 147 149]\n",
      "   [125 149 151]\n",
      "   [127 151 153]\n",
      "   ...\n",
      "   [ 96 127 122]\n",
      "   [115 144 142]\n",
      "   [120 146 145]]\n",
      "\n",
      "  ...\n",
      "\n",
      "  [[ 81  98 105]\n",
      "   [ 92 109 117]\n",
      "   [ 97 117 126]\n",
      "   ...\n",
      "   [138 147 142]\n",
      "   [128 137 132]\n",
      "   [116 125 120]]\n",
      "\n",
      "  [[ 45  60  67]\n",
      "   [ 78  95 103]\n",
      "   [100 120 129]\n",
      "   ...\n",
      "   [137 144 137]\n",
      "   [132 139 132]\n",
      "   [123 130 123]]\n",
      "\n",
      "  [[ 12  27  34]\n",
      "   [ 64  81  89]\n",
      "   [100 120 129]\n",
      "   ...\n",
      "   [134 139 132]\n",
      "   [133 138 132]\n",
      "   [129 134 128]]]\n",
      "\n",
      "\n",
      " [[[ 12  27  34]\n",
      "   [ 44  61  68]\n",
      "   [ 81  98 105]\n",
      "   ...\n",
      "   [123 147 149]\n",
      "   [123 147 149]\n",
      "   [122 146 150]]\n",
      "\n",
      "  [[ 63  80  88]\n",
      "   [ 78  95 103]\n",
      "   [ 91 110 117]\n",
      "   ...\n",
      "   [125 149 151]\n",
      "   [124 148 150]\n",
      "   [124 148 150]]\n",
      "\n",
      "  [[100 120 129]\n",
      "   [100 120 129]\n",
      "   [ 98 118 127]\n",
      "   ...\n",
      "   [129 150 153]\n",
      "   [126 150 152]\n",
      "   [126 150 152]]\n",
      "\n",
      "  ...\n",
      "\n",
      "  [[133 140 132]\n",
      "   [137 144 137]\n",
      "   [138 148 140]\n",
      "   ...\n",
      "   [ 96 127 122]\n",
      "   [ 98 129 124]\n",
      "   [100 131 126]]\n",
      "\n",
      "  [[133 138 132]\n",
      "   [132 139 132]\n",
      "   [128 137 132]\n",
      "   ...\n",
      "   [115 144 142]\n",
      "   [107 137 135]\n",
      "   [100 130 128]]\n",
      "\n",
      "  [[129 134 128]\n",
      "   [123 130 123]\n",
      "   [116 125 120]\n",
      "   ...\n",
      "   [118 147 145]\n",
      "   [115 143 144]\n",
      "   [111 139 140]]]\n",
      "\n",
      "\n",
      " [[[128 135 128]\n",
      "   [132 139 132]\n",
      "   [133 140 132]\n",
      "   ...\n",
      "   [100 120 129]\n",
      "   [ 64  81  89]\n",
      "   [ 12  27  34]]\n",
      "\n",
      "  [[123 130 123]\n",
      "   [132 139 132]\n",
      "   [137 144 137]\n",
      "   ...\n",
      "   [100 120 129]\n",
      "   [ 78  95 103]\n",
      "   [ 45  60  67]]\n",
      "\n",
      "  [[116 125 120]\n",
      "   [128 137 132]\n",
      "   [138 148 140]\n",
      "   ...\n",
      "   [ 97 117 126]\n",
      "   [ 92 109 117]\n",
      "   [ 81  98 105]]\n",
      "\n",
      "  ...\n",
      "\n",
      "  [[118 146 147]\n",
      "   [115 144 142]\n",
      "   [ 96 127 122]\n",
      "   ...\n",
      "   [129 150 153]\n",
      "   [125 149 151]\n",
      "   [123 147 149]]\n",
      "\n",
      "  [[115 143 144]\n",
      "   [108 136 137]\n",
      "   [ 98 128 126]\n",
      "   ...\n",
      "   [126 150 152]\n",
      "   [124 148 150]\n",
      "   [123 147 149]]\n",
      "\n",
      "  [[111 139 140]\n",
      "   [100 130 130]\n",
      "   [ 99 129 127]\n",
      "   ...\n",
      "   [126 150 152]\n",
      "   [124 148 150]\n",
      "   [122 146 150]]]\n",
      "\n",
      "\n",
      " ...\n",
      "\n",
      "\n",
      " [[[ 55  65  74]\n",
      "   [ 84  94 103]\n",
      "   [ 90 101 107]\n",
      "   ...\n",
      "   [125 144 142]\n",
      "   [124 143 141]\n",
      "   [124 143 141]]\n",
      "\n",
      "  [[ 54  64  74]\n",
      "   [ 83  93 102]\n",
      "   [ 91 104 112]\n",
      "   ...\n",
      "   [125 144 142]\n",
      "   [125 144 142]\n",
      "   [125 144 142]]\n",
      "\n",
      "  [[ 53  66  75]\n",
      "   [ 82  95 104]\n",
      "   [ 95 108 116]\n",
      "   ...\n",
      "   [128 144 143]\n",
      "   [126 145 143]\n",
      "   [126 145 143]]\n",
      "\n",
      "  ...\n",
      "\n",
      "  [[107 121 121]\n",
      "   [106 120 120]\n",
      "   [107 121 121]\n",
      "   ...\n",
      "   [101 121 122]\n",
      "   [102 123 124]\n",
      "   [104 125 126]]\n",
      "\n",
      "  [[107 125 125]\n",
      "   [104 122 122]\n",
      "   [102 120 120]\n",
      "   ...\n",
      "   [120 138 142]\n",
      "   [112 131 135]\n",
      "   [106 125 131]]\n",
      "\n",
      "  [[ 97 117 118]\n",
      "   [102 122 123]\n",
      "   [108 128 127]\n",
      "   ...\n",
      "   [123 140 147]\n",
      "   [120 137 144]\n",
      "   [115 134 140]]]\n",
      "\n",
      "\n",
      " [[[ 95 116 117]\n",
      "   [106 126 125]\n",
      "   [106 122 121]\n",
      "   ...\n",
      "   [ 55  65  75]\n",
      "   [ 54  64  73]\n",
      "   [ 56  65  74]]\n",
      "\n",
      "  [[101 122 123]\n",
      "   [103 123 122]\n",
      "   [105 121 120]\n",
      "   ...\n",
      "   [ 84  94 104]\n",
      "   [ 83  93 102]\n",
      "   [ 85  94 103]]\n",
      "\n",
      "  [[107 129 127]\n",
      "   [101 121 120]\n",
      "   [106 122 121]\n",
      "   ...\n",
      "   [ 98 108 117]\n",
      "   [ 93 104 110]\n",
      "   [ 90 101 107]]\n",
      "\n",
      "  ...\n",
      "\n",
      "  [[123 141 145]\n",
      "   [121 139 143]\n",
      "   [101 121 122]\n",
      "   ...\n",
      "   [128 144 143]\n",
      "   [127 143 142]\n",
      "   [127 143 142]]\n",
      "\n",
      "  [[120 137 144]\n",
      "   [112 131 135]\n",
      "   [102 123 124]\n",
      "   ...\n",
      "   [128 144 143]\n",
      "   [127 143 142]\n",
      "   [124 143 141]]\n",
      "\n",
      "  [[115 134 140]\n",
      "   [106 125 131]\n",
      "   [104 125 126]\n",
      "   ...\n",
      "   [128 144 143]\n",
      "   [127 143 142]\n",
      "   [124 143 141]]]\n",
      "\n",
      "\n",
      " [[[115 134 140]\n",
      "   [120 137 144]\n",
      "   [123 141 145]\n",
      "   ...\n",
      "   [108 128 127]\n",
      "   [102 122 123]\n",
      "   [ 96 117 118]]\n",
      "\n",
      "  [[106 125 129]\n",
      "   [112 131 135]\n",
      "   [120 138 142]\n",
      "   ...\n",
      "   [101 121 120]\n",
      "   [103 123 122]\n",
      "   [106 126 125]]\n",
      "\n",
      "  [[104 125 126]\n",
      "   [102 123 124]\n",
      "   [101 121 122]\n",
      "   ...\n",
      "   [106 122 121]\n",
      "   [105 121 120]\n",
      "   [106 122 121]]\n",
      "\n",
      "  ...\n",
      "\n",
      "  [[126 145 143]\n",
      "   [126 145 143]\n",
      "   [128 144 143]\n",
      "   ...\n",
      "   [ 97 107 116]\n",
      "   [ 84  94 104]\n",
      "   [ 55  65  75]]\n",
      "\n",
      "  [[125 144 142]\n",
      "   [125 144 142]\n",
      "   [125 144 142]\n",
      "   ...\n",
      "   [ 93 104 110]\n",
      "   [ 84  93 102]\n",
      "   [ 55  64  73]]\n",
      "\n",
      "  [[124 143 141]\n",
      "   [124 143 141]\n",
      "   [125 144 142]\n",
      "   ...\n",
      "   [ 91 100 107]\n",
      "   [ 85  94 103]\n",
      "   [ 56  65  74]]]]\n"
     ]
    },
    {
     "data": {
      "text/plain": [
       "<Figure size 1000x1000 with 0 Axes>"
      ]
     },
     "metadata": {},
     "output_type": "display_data"
    }
   ],
   "source": [
    "from tensorflow.keras import layers\n",
    "\n",
    "data_augmentation = keras.Sequential(\n",
    "    [\n",
    "        layers.RandomFlip(\"horizontal\"),\n",
    "        layers.RandomRotation(0.1),\n",
    "        layers.RandomZoom(0.2),\n",
    "    ]\n",
    ")\n",
    "\n",
    "plt.figure(figsize=(10,10))\n",
    "\n",
    "print(x_train)"
   ]
  },
  {
   "cell_type": "code",
   "execution_count": 52,
   "id": "1e356f9c",
   "metadata": {
    "ExecuteTime": {
     "end_time": "2023-01-02T02:56:10.803073Z",
     "start_time": "2023-01-02T02:56:10.784084Z"
    }
   },
   "outputs": [],
   "source": [
    "import matplotlib.pyplot as plt"
   ]
  },
  {
   "cell_type": "code",
   "execution_count": 56,
   "id": "e99ea5aa",
   "metadata": {
    "ExecuteTime": {
     "end_time": "2023-01-02T02:56:36.120365Z",
     "start_time": "2023-01-02T02:56:36.020422Z"
    }
   },
   "outputs": [
    {
     "name": "stdout",
     "output_type": "stream",
     "text": [
      "Model: \"sequential_3\"\n",
      "_________________________________________________________________\n",
      " Layer (type)                Output Shape              Param #   \n",
      "=================================================================\n",
      " conv2d_6 (Conv2D)           (None, 30, 30, 16)        448       \n",
      "                                                                 \n",
      " max_pooling2d_6 (MaxPooling  (None, 15, 15, 16)       0         \n",
      " 2D)                                                             \n",
      "                                                                 \n",
      " conv2d_7 (Conv2D)           (None, 13, 13, 32)        4640      \n",
      "                                                                 \n",
      " max_pooling2d_7 (MaxPooling  (None, 6, 6, 32)         0         \n",
      " 2D)                                                             \n",
      "                                                                 \n",
      " flatten_3 (Flatten)         (None, 1152)              0         \n",
      "                                                                 \n",
      " dense_6 (Dense)             (None, 32)                36896     \n",
      "                                                                 \n",
      " dense_7 (Dense)             (None, 3)                 99        \n",
      "                                                                 \n",
      "=================================================================\n",
      "Total params: 42,083\n",
      "Trainable params: 42,083\n",
      "Non-trainable params: 0\n",
      "_________________________________________________________________\n"
     ]
    }
   ],
   "source": [
    "n_channel_1=16\n",
    "n_channel_2=32\n",
    "n_dense=32\n",
    "n_train_epoch=10\n",
    "\n",
    "model=keras.models.Sequential()\n",
    "model.add(keras.layers.Conv2D(n_channel_1, (3,3), activation='relu', input_shape=(32,32,3)))\n",
    "model.add(keras.layers.MaxPool2D(2,2))\n",
    "model.add(keras.layers.Conv2D(n_channel_2, (3,3), activation='relu'))\n",
    "model.add(keras.layers.MaxPooling2D((2,2)))\n",
    "model.add(keras.layers.Flatten())\n",
    "model.add(keras.layers.Dense(n_dense, activation='relu'))\n",
    "model.add(keras.layers.Dense(3, activation='softmax'))\n",
    "\n",
    "model.summary()"
   ]
  },
  {
   "cell_type": "code",
   "execution_count": 57,
   "id": "ff1fd46b",
   "metadata": {
    "ExecuteTime": {
     "end_time": "2023-01-02T02:56:44.545557Z",
     "start_time": "2023-01-02T02:56:37.425644Z"
    }
   },
   "outputs": [
    {
     "name": "stdout",
     "output_type": "stream",
     "text": [
      "Model: \"sequential_3\"\n",
      "_________________________________________________________________\n",
      " Layer (type)                Output Shape              Param #   \n",
      "=================================================================\n",
      " conv2d_6 (Conv2D)           (None, 30, 30, 16)        448       \n",
      "                                                                 \n",
      " max_pooling2d_6 (MaxPooling  (None, 15, 15, 16)       0         \n",
      " 2D)                                                             \n",
      "                                                                 \n",
      " conv2d_7 (Conv2D)           (None, 13, 13, 32)        4640      \n",
      "                                                                 \n",
      " max_pooling2d_7 (MaxPooling  (None, 6, 6, 32)         0         \n",
      " 2D)                                                             \n",
      "                                                                 \n",
      " flatten_3 (Flatten)         (None, 1152)              0         \n",
      "                                                                 \n",
      " dense_6 (Dense)             (None, 32)                36896     \n",
      "                                                                 \n",
      " dense_7 (Dense)             (None, 3)                 99        \n",
      "                                                                 \n",
      "=================================================================\n",
      "Total params: 42,083\n",
      "Trainable params: 42,083\n",
      "Non-trainable params: 0\n",
      "_________________________________________________________________\n",
      "Epoch 1/10\n",
      "38/38 [==============================] - 2s 16ms/step - loss: 1.1007 - accuracy: 0.3100\n",
      "Epoch 2/10\n",
      "38/38 [==============================] - 1s 15ms/step - loss: 1.0987 - accuracy: 0.3333\n",
      "Epoch 3/10\n",
      "38/38 [==============================] - 1s 14ms/step - loss: 1.0985 - accuracy: 0.3358\n",
      "Epoch 4/10\n",
      "38/38 [==============================] - 1s 14ms/step - loss: 1.0977 - accuracy: 0.3667\n",
      "Epoch 5/10\n",
      "38/38 [==============================] - 0s 13ms/step - loss: 1.0966 - accuracy: 0.3625\n",
      "Epoch 6/10\n",
      "38/38 [==============================] - 0s 13ms/step - loss: 1.0906 - accuracy: 0.3875\n",
      "Epoch 7/10\n",
      "38/38 [==============================] - 1s 14ms/step - loss: 1.0909 - accuracy: 0.3767\n",
      "Epoch 8/10\n",
      "38/38 [==============================] - 1s 14ms/step - loss: 1.0601 - accuracy: 0.4358\n",
      "Epoch 9/10\n",
      "38/38 [==============================] - 0s 13ms/step - loss: 1.0609 - accuracy: 0.4067\n",
      "Epoch 10/10\n",
      "38/38 [==============================] - 0s 13ms/step - loss: 1.0110 - accuracy: 0.4792\n"
     ]
    },
    {
     "data": {
      "text/plain": [
       "<keras.callbacks.History at 0x29cb3aa3700>"
      ]
     },
     "execution_count": 57,
     "metadata": {},
     "output_type": "execute_result"
    }
   ],
   "source": [
    "model.compile(optimizer='adam',\n",
    "             loss='sparse_categorical_crossentropy',\n",
    "             metrics=['accuracy'])\n",
    "\n",
    "# 모델 훈련\n",
    "model.fit(x_train_norm, y_train, epochs=n_train_epoch)"
   ]
  },
  {
   "cell_type": "code",
   "execution_count": 58,
   "id": "7fa645d8",
   "metadata": {
    "ExecuteTime": {
     "end_time": "2023-01-02T02:56:48.398528Z",
     "start_time": "2023-01-02T02:56:47.954807Z"
    }
   },
   "outputs": [
    {
     "name": "stdout",
     "output_type": "stream",
     "text": [
      "10/10 - 0s - loss: 1.6060 - accuracy: 0.3467 - 381ms/epoch - 38ms/step\n"
     ]
    }
   ],
   "source": [
    "test_loss, test_accuracy = model.evaluate(x_test_norm, y_test, verbose=2)"
   ]
  },
  {
   "cell_type": "code",
   "execution_count": 59,
   "id": "6080728d",
   "metadata": {
    "ExecuteTime": {
     "end_time": "2023-01-02T02:56:51.924407Z",
     "start_time": "2023-01-02T02:56:51.904418Z"
    }
   },
   "outputs": [
    {
     "data": {
      "text/plain": [
       "array([[[[122, 146, 148],\n",
       "         [124, 148, 150],\n",
       "         [126, 150, 152],\n",
       "         ...,\n",
       "         [ 98, 130, 125],\n",
       "         [101, 131, 129],\n",
       "         [111, 139, 140]],\n",
       "\n",
       "        [[123, 147, 149],\n",
       "         [124, 148, 150],\n",
       "         [126, 150, 152],\n",
       "         ...,\n",
       "         [ 98, 129, 124],\n",
       "         [108, 137, 135],\n",
       "         [115, 143, 144]],\n",
       "\n",
       "        [[123, 147, 149],\n",
       "         [125, 149, 151],\n",
       "         [127, 151, 153],\n",
       "         ...,\n",
       "         [ 96, 127, 122],\n",
       "         [115, 144, 142],\n",
       "         [120, 146, 145]],\n",
       "\n",
       "        ...,\n",
       "\n",
       "        [[ 81,  98, 105],\n",
       "         [ 92, 109, 117],\n",
       "         [ 97, 117, 126],\n",
       "         ...,\n",
       "         [138, 147, 142],\n",
       "         [128, 137, 132],\n",
       "         [116, 125, 120]],\n",
       "\n",
       "        [[ 45,  60,  67],\n",
       "         [ 78,  95, 103],\n",
       "         [100, 120, 129],\n",
       "         ...,\n",
       "         [137, 144, 137],\n",
       "         [132, 139, 132],\n",
       "         [123, 130, 123]],\n",
       "\n",
       "        [[ 12,  27,  34],\n",
       "         [ 64,  81,  89],\n",
       "         [100, 120, 129],\n",
       "         ...,\n",
       "         [134, 139, 132],\n",
       "         [133, 138, 132],\n",
       "         [129, 134, 128]]],\n",
       "\n",
       "\n",
       "       [[[ 12,  27,  34],\n",
       "         [ 44,  61,  68],\n",
       "         [ 81,  98, 105],\n",
       "         ...,\n",
       "         [123, 147, 149],\n",
       "         [123, 147, 149],\n",
       "         [122, 146, 150]],\n",
       "\n",
       "        [[ 63,  80,  88],\n",
       "         [ 78,  95, 103],\n",
       "         [ 91, 110, 117],\n",
       "         ...,\n",
       "         [125, 149, 151],\n",
       "         [124, 148, 150],\n",
       "         [124, 148, 150]],\n",
       "\n",
       "        [[100, 120, 129],\n",
       "         [100, 120, 129],\n",
       "         [ 98, 118, 127],\n",
       "         ...,\n",
       "         [129, 150, 153],\n",
       "         [126, 150, 152],\n",
       "         [126, 150, 152]],\n",
       "\n",
       "        ...,\n",
       "\n",
       "        [[133, 140, 132],\n",
       "         [137, 144, 137],\n",
       "         [138, 148, 140],\n",
       "         ...,\n",
       "         [ 96, 127, 122],\n",
       "         [ 98, 129, 124],\n",
       "         [100, 131, 126]],\n",
       "\n",
       "        [[133, 138, 132],\n",
       "         [132, 139, 132],\n",
       "         [128, 137, 132],\n",
       "         ...,\n",
       "         [115, 144, 142],\n",
       "         [107, 137, 135],\n",
       "         [100, 130, 128]],\n",
       "\n",
       "        [[129, 134, 128],\n",
       "         [123, 130, 123],\n",
       "         [116, 125, 120],\n",
       "         ...,\n",
       "         [118, 147, 145],\n",
       "         [115, 143, 144],\n",
       "         [111, 139, 140]]],\n",
       "\n",
       "\n",
       "       [[[128, 135, 128],\n",
       "         [132, 139, 132],\n",
       "         [133, 140, 132],\n",
       "         ...,\n",
       "         [100, 120, 129],\n",
       "         [ 64,  81,  89],\n",
       "         [ 12,  27,  34]],\n",
       "\n",
       "        [[123, 130, 123],\n",
       "         [132, 139, 132],\n",
       "         [137, 144, 137],\n",
       "         ...,\n",
       "         [100, 120, 129],\n",
       "         [ 78,  95, 103],\n",
       "         [ 45,  60,  67]],\n",
       "\n",
       "        [[116, 125, 120],\n",
       "         [128, 137, 132],\n",
       "         [138, 148, 140],\n",
       "         ...,\n",
       "         [ 97, 117, 126],\n",
       "         [ 92, 109, 117],\n",
       "         [ 81,  98, 105]],\n",
       "\n",
       "        ...,\n",
       "\n",
       "        [[118, 146, 147],\n",
       "         [115, 144, 142],\n",
       "         [ 96, 127, 122],\n",
       "         ...,\n",
       "         [129, 150, 153],\n",
       "         [125, 149, 151],\n",
       "         [123, 147, 149]],\n",
       "\n",
       "        [[115, 143, 144],\n",
       "         [108, 136, 137],\n",
       "         [ 98, 128, 126],\n",
       "         ...,\n",
       "         [126, 150, 152],\n",
       "         [124, 148, 150],\n",
       "         [123, 147, 149]],\n",
       "\n",
       "        [[111, 139, 140],\n",
       "         [100, 130, 130],\n",
       "         [ 99, 129, 127],\n",
       "         ...,\n",
       "         [126, 150, 152],\n",
       "         [124, 148, 150],\n",
       "         [122, 146, 150]]],\n",
       "\n",
       "\n",
       "       ...,\n",
       "\n",
       "\n",
       "       [[[ 55,  65,  74],\n",
       "         [ 84,  94, 103],\n",
       "         [ 90, 101, 107],\n",
       "         ...,\n",
       "         [125, 144, 142],\n",
       "         [124, 143, 141],\n",
       "         [124, 143, 141]],\n",
       "\n",
       "        [[ 54,  64,  74],\n",
       "         [ 83,  93, 102],\n",
       "         [ 91, 104, 112],\n",
       "         ...,\n",
       "         [125, 144, 142],\n",
       "         [125, 144, 142],\n",
       "         [125, 144, 142]],\n",
       "\n",
       "        [[ 53,  66,  75],\n",
       "         [ 82,  95, 104],\n",
       "         [ 95, 108, 116],\n",
       "         ...,\n",
       "         [128, 144, 143],\n",
       "         [126, 145, 143],\n",
       "         [126, 145, 143]],\n",
       "\n",
       "        ...,\n",
       "\n",
       "        [[107, 121, 121],\n",
       "         [106, 120, 120],\n",
       "         [107, 121, 121],\n",
       "         ...,\n",
       "         [101, 121, 122],\n",
       "         [102, 123, 124],\n",
       "         [104, 125, 126]],\n",
       "\n",
       "        [[107, 125, 125],\n",
       "         [104, 122, 122],\n",
       "         [102, 120, 120],\n",
       "         ...,\n",
       "         [120, 138, 142],\n",
       "         [112, 131, 135],\n",
       "         [106, 125, 131]],\n",
       "\n",
       "        [[ 97, 117, 118],\n",
       "         [102, 122, 123],\n",
       "         [108, 128, 127],\n",
       "         ...,\n",
       "         [123, 140, 147],\n",
       "         [120, 137, 144],\n",
       "         [115, 134, 140]]],\n",
       "\n",
       "\n",
       "       [[[ 95, 116, 117],\n",
       "         [106, 126, 125],\n",
       "         [106, 122, 121],\n",
       "         ...,\n",
       "         [ 55,  65,  75],\n",
       "         [ 54,  64,  73],\n",
       "         [ 56,  65,  74]],\n",
       "\n",
       "        [[101, 122, 123],\n",
       "         [103, 123, 122],\n",
       "         [105, 121, 120],\n",
       "         ...,\n",
       "         [ 84,  94, 104],\n",
       "         [ 83,  93, 102],\n",
       "         [ 85,  94, 103]],\n",
       "\n",
       "        [[107, 129, 127],\n",
       "         [101, 121, 120],\n",
       "         [106, 122, 121],\n",
       "         ...,\n",
       "         [ 98, 108, 117],\n",
       "         [ 93, 104, 110],\n",
       "         [ 90, 101, 107]],\n",
       "\n",
       "        ...,\n",
       "\n",
       "        [[123, 141, 145],\n",
       "         [121, 139, 143],\n",
       "         [101, 121, 122],\n",
       "         ...,\n",
       "         [128, 144, 143],\n",
       "         [127, 143, 142],\n",
       "         [127, 143, 142]],\n",
       "\n",
       "        [[120, 137, 144],\n",
       "         [112, 131, 135],\n",
       "         [102, 123, 124],\n",
       "         ...,\n",
       "         [128, 144, 143],\n",
       "         [127, 143, 142],\n",
       "         [124, 143, 141]],\n",
       "\n",
       "        [[115, 134, 140],\n",
       "         [106, 125, 131],\n",
       "         [104, 125, 126],\n",
       "         ...,\n",
       "         [128, 144, 143],\n",
       "         [127, 143, 142],\n",
       "         [124, 143, 141]]],\n",
       "\n",
       "\n",
       "       [[[115, 134, 140],\n",
       "         [120, 137, 144],\n",
       "         [123, 141, 145],\n",
       "         ...,\n",
       "         [108, 128, 127],\n",
       "         [102, 122, 123],\n",
       "         [ 96, 117, 118]],\n",
       "\n",
       "        [[106, 125, 129],\n",
       "         [112, 131, 135],\n",
       "         [120, 138, 142],\n",
       "         ...,\n",
       "         [101, 121, 120],\n",
       "         [103, 123, 122],\n",
       "         [106, 126, 125]],\n",
       "\n",
       "        [[104, 125, 126],\n",
       "         [102, 123, 124],\n",
       "         [101, 121, 122],\n",
       "         ...,\n",
       "         [106, 122, 121],\n",
       "         [105, 121, 120],\n",
       "         [106, 122, 121]],\n",
       "\n",
       "        ...,\n",
       "\n",
       "        [[126, 145, 143],\n",
       "         [126, 145, 143],\n",
       "         [128, 144, 143],\n",
       "         ...,\n",
       "         [ 97, 107, 116],\n",
       "         [ 84,  94, 104],\n",
       "         [ 55,  65,  75]],\n",
       "\n",
       "        [[125, 144, 142],\n",
       "         [125, 144, 142],\n",
       "         [125, 144, 142],\n",
       "         ...,\n",
       "         [ 93, 104, 110],\n",
       "         [ 84,  93, 102],\n",
       "         [ 55,  64,  73]],\n",
       "\n",
       "        [[124, 143, 141],\n",
       "         [124, 143, 141],\n",
       "         [125, 144, 142],\n",
       "         ...,\n",
       "         [ 91, 100, 107],\n",
       "         [ 85,  94, 103],\n",
       "         [ 56,  65,  74]]]])"
      ]
     },
     "execution_count": 59,
     "metadata": {},
     "output_type": "execute_result"
    }
   ],
   "source": [
    "x_train\n"
   ]
  },
  {
   "cell_type": "code",
   "execution_count": 60,
   "id": "e79617fd",
   "metadata": {
    "ExecuteTime": {
     "end_time": "2023-01-02T02:56:54.209160Z",
     "start_time": "2023-01-02T02:56:53.966298Z"
    }
   },
   "outputs": [
    {
     "name": "stdout",
     "output_type": "stream",
     "text": [
      "10/10 [==============================] - 0s 3ms/step\n",
      "model.predict() 결과 :  [0.12371371 0.05040228 0.825884  ]\n",
      "model이 추론한 가장 가능성이 높은 결과 :  2\n",
      "실제 데이터의 라벨 :  0\n"
     ]
    }
   ],
   "source": [
    "predicted_result = model.predict(x_test_norm)  # model이 추론한 확률값. \n",
    "predicted_labels = np.argmax(predicted_result, axis=1)\n",
    "\n",
    "idx=0  #1번째 x_test를 살펴보자. \n",
    "print('model.predict() 결과 : ', predicted_result[idx])\n",
    "print('model이 추론한 가장 가능성이 높은 결과 : ', predicted_labels[idx])\n",
    "print('실제 데이터의 라벨 : ', y_test[idx])"
   ]
  },
  {
   "cell_type": "code",
   "execution_count": 61,
   "id": "54813caa",
   "metadata": {
    "ExecuteTime": {
     "end_time": "2023-01-02T02:56:58.667557Z",
     "start_time": "2023-01-02T02:56:57.651137Z"
    },
    "scrolled": false
   },
   "outputs": [
    {
     "name": "stdout",
     "output_type": "stream",
     "text": [
      "예측확률분포: [0.45603415 0.10788682 0.43607897]\n",
      "라벨: 2, 예측결과: 0\n"
     ]
    },
    {
     "data": {
      "image/png": "[encoded data removed]",
      "text/plain": [
       "<Figure size 640x480 with 1 Axes>"
      ]
     },
     "metadata": {},
     "output_type": "display_data"
    },
    {
     "name": "stdout",
     "output_type": "stream",
     "text": [
      "예측확률분포: [0.15371388 0.04353309 0.80275303]\n",
      "라벨: 1, 예측결과: 2\n"
     ]
    },
    {
     "data": {
      "image/png": "[encoded data removed]",
      "text/plain": [
       "<Figure size 640x480 with 1 Axes>"
      ]
     },
     "metadata": {},
     "output_type": "display_data"
    },
    {
     "name": "stdout",
     "output_type": "stream",
     "text": [
      "예측확률분포: [0.33410558 0.12432179 0.5415726 ]\n",
      "라벨: 0, 예측결과: 2\n"
     ]
    },
    {
     "data": {
      "image/png": "[encoded data removed]",
      "text/plain": [
       "<Figure size 640x480 with 1 Axes>"
      ]
     },
     "metadata": {},
     "output_type": "display_data"
    },
    {
     "name": "stdout",
     "output_type": "stream",
     "text": [
      "예측확률분포: [0.11577109 0.04758238 0.8366465 ]\n",
      "라벨: 1, 예측결과: 2\n"
     ]
    },
    {
     "data": {
      "image/png": "[encoded data removed]",
      "text/plain": [
       "<Figure size 640x480 with 1 Axes>"
      ]
     },
     "metadata": {},
     "output_type": "display_data"
    },
    {
     "name": "stdout",
     "output_type": "stream",
     "text": [
      "예측확률분포: [0.20893818 0.04344566 0.7476162 ]\n",
      "라벨: 1, 예측결과: 2\n"
     ]
    },
    {
     "data": {
      "image/png": "[encoded data removed]",
      "text/plain": [
       "<Figure size 640x480 with 1 Axes>"
      ]
     },
     "metadata": {},
     "output_type": "display_data"
    }
   ],
   "source": [
    "import random\n",
    "wrong_predict_list=[]\n",
    "for i, _ in enumerate(predicted_labels):\n",
    "    # i번째 test_labels과 y_test이 다른 경우만 모아 봅시다. \n",
    "    if predicted_labels[i] != y_test[i]:\n",
    "        wrong_predict_list.append(i)\n",
    "\n",
    "# wrong_predict_list 에서 랜덤하게 5개만 뽑아봅시다.\n",
    "samples = random.choices(population=wrong_predict_list, k=5)\n",
    "\n",
    "for n in samples:\n",
    "    print(\"예측확률분포: \" + str(predicted_result[n]))\n",
    "    print(\"라벨: \" + str(y_test[n]) + \", 예측결과: \" + str(predicted_labels[n]))\n",
    "    plt.imshow(x_test[n], cmap=plt.cm.binary)\n",
    "    plt.show()"
   ]
  },
  {
   "cell_type": "code",
   "execution_count": null,
   "id": "783b02de",
   "metadata": {},
   "outputs": [],
   "source": []
  }
 ],
 "metadata": {
  "kernelspec": {
   "display_name": "Python 3 (ipykernel)",
   "language": "python",
   "name": "python3"
  },
  "language_info": {
   "codemirror_mode": {
    "name": "ipython",
    "version": 3
   },
   "file_extension": ".py",
   "mimetype": "text/x-python",
   "name": "python",
   "nbconvert_exporter": "python",
   "pygments_lexer": "ipython3",
   "version": "3.9.13"
  },
  "toc": {
   "base_numbering": 1,
   "nav_menu": {},
   "number_sections": true,
   "sideBar": true,
   "skip_h1_title": false,
   "title_cell": "Table of Contents",
   "title_sidebar": "Contents",
   "toc_cell": false,
   "toc_position": {},
   "toc_section_display": true,
   "toc_window_display": false
  }
 },
 "nbformat": 4,
 "nbformat_minor": 5
}
